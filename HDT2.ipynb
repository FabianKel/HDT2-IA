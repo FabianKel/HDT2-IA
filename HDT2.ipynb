{
 "cells": [
  {
   "cell_type": "markdown",
   "metadata": {},
   "source": [
    "# Hoja de Trabajo 2 - Inteligencia Artificial\n"
   ]
  },
  {
   "cell_type": "markdown",
   "metadata": {},
   "source": [
    "[Enlace al repositorio](https://github.com/FabianKel/HDT2-IA)\n",
    "\n",
    "\n",
    "## Integrantes del equipo\n",
    "- [Mónica Salvatierra - 22249](https://github.com/alee2602)\n",
    "- [Paula Barillas - 22764](https://github.com/paulabaal12)\n",
    "- [Derek Arreaga - 22537](https://github.com/FabianKel) "
   ]
  },
  {
   "cell_type": "markdown",
   "metadata": {},
   "source": [
    "## Task 1 - Preguntas Teóricas\n",
    "Responda a cada de las siguientes preguntas de forma clara y lo más completamente posible.\n"
   ]
  },
  {
   "cell_type": "markdown",
   "metadata": {},
   "source": [
    "1. Defina el proceso de decisión de Markov (MDP) y explique sus componentes.\n",
    "\n",
    "    - Se puede representar como un grafo, donde los nodos representan estados y las aristas las probabilidades de llegar a ese estado. \n",
    "    - Estados\n",
    "        - s_start: Estado inicial\n",
    "        - Actions(s): Acciones del estado s\n",
    "        - T(s, a, s'): Probabilidad de s' si la acción a se toma en el estado s\n",
    "        - Reward(s, a, s'): Premio de la transición\n",
    "        - IsEnd(s): Determina si ya terminó el juego\n",
    "        - 0<=y<=1: Factor de descuento (Default: 1)\n",
    "        - Para cada estado s y una acción a:\n",
    "            Sumatoria de T(s, a, s') para todas s' es igual a 1\n",
    "    - Probabilidades de Transición:\n",
    "\tEspecifican la probabilidad de terminar en un estado s' si la acción a es tomada en el estado s. Se puede tabular para mostrar un ejemplo.\n",
    "\n"
   ]
  },
  {
   "cell_type": "markdown",
   "metadata": {},
   "source": [
    "2. Describa cual es la diferencia entre política, evaluación de políticas, mejora de políticas e iteración de políticas en el contexto de los PDM.\n",
    "\t- Política: \n",
    "\t- Evaluación de Política: Utilidad y Valor.\n",
    "\t- Mejoras de Políticas: \n",
    "\t- Iteración de políticas: \n"
   ]
  },
  {
   "cell_type": "markdown",
   "metadata": {},
   "source": [
    "3. Explique el concepto de factor de descuento (gamma) en los MDP. ¿Cómo influye en la toma de decisiones?"
   ]
  },
  {
   "cell_type": "markdown",
   "metadata": {},
   "source": [
    "4. Analice la diferencia entre los algoritmos de iteración de valores y de iteración de políticas para resolver MDP."
   ]
  },
  {
   "cell_type": "markdown",
   "metadata": {},
   "source": [
    "5. ¿Cuáles son algunos desafíos o limitaciones comunes asociados con la resolución de MDP a gran escala?\n",
    "Discuta los enfoques potenciales para abordar estos desafíos."
   ]
  },
  {
   "cell_type": "markdown",
   "metadata": {},
   "source": [
    "## Task 2 - Preguntas Analíticas\n",
    "Responda a cada de las siguientes preguntas de forma clara y lo más completamente posible.\n"
   ]
  },
  {
   "cell_type": "markdown",
   "metadata": {},
   "source": [
    "1. Analice críticamente los supuestos subyacentes a la propiedad de Markov en los Procesos de Decisión de Markov (MDP). Analice escenarios en los que estos supuestos puedan no ser válidos y sus implicaciones para la toma de decisiones.\n"
   ]
  },
  {
   "cell_type": "markdown",
   "metadata": {},
   "source": [
    "2. Explore los desafíos de modelar la incertidumbre en los procesos de decisión de Markov (MDP) y analice estrategias para una toma de decisiones sólida en entornos inciertos.\n"
   ]
  },
  {
   "cell_type": "markdown",
   "metadata": {},
   "source": [
    "## Task 3 - Preguntas Prácticas\n",
    "Desarrolle un agente básico capaz de resolver un problema simplificado del Proceso de Decisión de Markov (MDP). Considere utilizar un ejemplo bien conocido como el entorno 'Frozen Lake'. Proporcione el código Python para el proceso de toma de decisiones del agente basándose únicamente en los principios de los procesos de decisión de Markov. Recuerde que para este tipo de problema, el ambiente es una matriz de 4x4, y las acciones, pueden ser moverse hacia arriba, abajo, derecha, izquierda. Considere que el punto inicial siempre estará en la esquina opuesta del punto de meta. Es decir, puede tener hasta 4 configuraciones diferentes. Por ejemplo, el punto inicial puede estar en la coordenada (0, 0) y el punto de meta en la coordenada en la coordenada (3, 3). Además, la posición de los hoyos debe ser determinada aleatoriamente y no debe superar el ser más de 3. Es decir, si aleatoriamente se decide que sean 2 posiciones de hoyo, las coordenadas de estas deben ser determinadas de forma aleatoria. Asegúrese de usar “seed” para que sus resultados sean consistentes.\n"
   ]
  }
 ],
 "metadata": {
  "language_info": {
   "name": "python"
  }
 },
 "nbformat": 4,
 "nbformat_minor": 2
}
